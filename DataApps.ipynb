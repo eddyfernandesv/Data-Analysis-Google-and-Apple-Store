{
 "cells": [
  {
   "cell_type": "markdown",
   "metadata": {},
   "source": [
    "# Data Analisys\n",
    "## Profitable App Profiles for the App Store and Google Play Markets\n",
    "\n",
    "The goal for this project is to find mobile app profiles that are profitable for the App Store and Google Play markets. We're working as data analysts for a company that builds Android and iOS mobile apps, our job is to enable provide reliable information to our developer team to make data-driven decisions with respect to the kind of apps they build.\n",
    "\n",
    "We will focus on 'Free Apps', free to download and install, and our main source of revenue consists of in-app ads, that means that our profits will come mostly by the number of users that use our app and engage with our ads. We will analyze the data to figure out which apps would likely attract more users.\n",
    "\n",
    "| Column | name  |\tDescription  |\n",
    "| id     | App ID | App Name | Size (in Bytes) | Currency Type | Price amount | User Rating counts (for all version)\n",
    "\"rating_count_ver\"\tUser Rating counts (for current version)\n",
    "\"user_rating\"\tAverage User Rating value (for all version)\n",
    "\"user_rating_ver\"\tAverage User Rating value (for current version)\n",
    "\"ver\"\tLatest version code\n",
    "\"cont_rating\"\tContent Rating\n",
    "\"prime_genre\"\tPrimary Genre\n",
    "\"sup_devices.num\"\tNumber of supporting devices\n",
    "\"ipadSc_urls.num\"\tNumber of screenshots showed for display\n",
    "\"lang.num\"\tNumber of supported languages\n",
    "\"vpp_lic\"\tVpp Device Based Licensing Enabled"
   ]
  },
  {
   "cell_type": "code",
   "execution_count": 2,
   "metadata": {},
   "outputs": [
    {
     "name": "stdout",
     "output_type": "stream",
     "text": [
      "GOOGLE STORE DATA\n",
      "['App', 'Category', 'Rating', 'Reviews', 'Size', 'Installs', 'Type', 'Price', 'Content Rating', 'Genres', 'Last Updated', 'Current Ver', 'Android Ver']\n",
      "\n",
      "\n",
      "['Photo Editor & Candy Camera & Grid & ScrapBook', 'ART_AND_DESIGN', '4.1', '159', '19M', '10,000+', 'Free', '0', 'Everyone', 'Art & Design', 'January 7, 2018', '1.0.0', '4.0.3 and up']\n",
      "\n",
      "\n",
      "['Coloring book moana', 'ART_AND_DESIGN', '3.9', '967', '14M', '500,000+', 'Free', '0', 'Everyone', 'Art & Design;Pretend Play', 'January 15, 2018', '2.0.0', '4.0.3 and up']\n",
      "\n",
      "\n",
      "['U Launcher Lite – FREE Live Cool Themes, Hide Apps', 'ART_AND_DESIGN', '4.7', '87510', '8.7M', '5,000,000+', 'Free', '0', 'Everyone', 'Art & Design', 'August 1, 2018', '1.2.4', '4.0.3 and up']\n",
      "\n",
      "\n",
      "['Sketch - Draw & Paint', 'ART_AND_DESIGN', '4.5', '215644', '25M', '50,000,000+', 'Free', '0', 'Teen', 'Art & Design', 'June 8, 2018', 'Varies with device', '4.2 and up']\n",
      "\n",
      "\n",
      "Number of rows: 10842\n",
      "Number of columns: 13\n",
      "\n",
      "\n",
      "APPLE STORE DATA\n",
      "['id', 'track_name', 'size_bytes', 'currency', 'price', 'rating_count_tot', 'rating_count_ver', 'user_rating', 'user_rating_ver', 'ver', 'cont_rating', 'prime_genre', 'sup_devices.num', 'ipadSc_urls.num', 'lang.num', 'vpp_lic']\n",
      "\n",
      "\n",
      "['284882215', 'Facebook', '389879808', 'USD', '0.0', '2974676', '212', '3.5', '3.5', '95.0', '4+', 'Social Networking', '37', '1', '29', '1']\n",
      "\n",
      "\n",
      "['389801252', 'Instagram', '113954816', 'USD', '0.0', '2161558', '1289', '4.5', '4.0', '10.23', '12+', 'Photo & Video', '37', '0', '29', '1']\n",
      "\n",
      "\n",
      "['529479190', 'Clash of Clans', '116476928', 'USD', '0.0', '2130805', '579', '4.5', '4.5', '9.24.12', '9+', 'Games', '38', '5', '18', '1']\n",
      "\n",
      "\n",
      "['420009108', 'Temple Run', '65921024', 'USD', '0.0', '1724546', '3842', '4.5', '4.0', '1.6.2', '9+', 'Games', '40', '5', '1', '1']\n",
      "\n",
      "\n",
      "Number of rows: 7198\n",
      "Number of columns: 16\n"
     ]
    }
   ],
   "source": [
    "#Accesing Google File\n",
    "myfileg = open('googleplaystore.csv', encoding='utf8')\n",
    "from csv import reader\n",
    "read_fileg = reader(myfileg)\n",
    "open_fileg = list(read_fileg)\n",
    "googleh = open_fileg[0]\n",
    "googles = open_fileg[1:]\n",
    "\n",
    "#Accesing Apple File\n",
    "myfilea = open('AppleStore.csv', encoding='utf8')\n",
    "from csv import reader\n",
    "read_filea = reader(myfilea)\n",
    "open_filea = list(read_filea)\n",
    "appleh = open_filea[0]\n",
    "apples = open_filea[1:]\n",
    "\n",
    "def explore_data(dataset, start, end, rows_and_columns=False):\n",
    "    dataset_slice = dataset[start:end]    \n",
    "    for row in dataset_slice:\n",
    "        print(row)\n",
    "        print('\\n') # adds a new (empty) line after each row\n",
    "\n",
    "    if rows_and_columns:\n",
    "        print('Number of rows:', len(dataset))\n",
    "        print('Number of columns:', len(dataset[0]))\n",
    "\n",
    "print('GOOGLE STORE DATA')\n",
    "explore_data(open_fileg,0,5,True)\n",
    "print ('\\n')\n",
    "print('APPLE STORE DATA')\n",
    "explore_data(open_filea,0,5,True)\n"
   ]
  },
  {
   "cell_type": "markdown",
   "metadata": {},
   "source": [
    "## The code below show a problem with the register value #10472 (Life Made WI-Fi Touchscreen Photo Frame) does not have any information for 'Category'"
   ]
  },
  {
   "cell_type": "code",
   "execution_count": 3,
   "metadata": {},
   "outputs": [
    {
     "name": "stdout",
     "output_type": "stream",
     "text": [
      "['Life Made WI-Fi Touchscreen Photo Frame', '1.9', '19', '3.0M', '1,000+', 'Free', '0', 'Everyone', '', 'February 11, 2018', '1.0.19', '4.0 and up']\n",
      "\n",
      "\n",
      "['App', 'Category', 'Rating', 'Reviews', 'Size', 'Installs', 'Type', 'Price', 'Content Rating', 'Genres', 'Last Updated', 'Current Ver', 'Android Ver']\n",
      "\n",
      "\n",
      "['Photo Editor & Candy Camera & Grid & ScrapBook', 'ART_AND_DESIGN', '4.1', '159', '19M', '10,000+', 'Free', '0', 'Everyone', 'Art & Design', 'January 7, 2018', '1.0.0', '4.0.3 and up']\n"
     ]
    }
   ],
   "source": [
    "print(googles[10472])\n",
    "print('\\n')\n",
    "print(googleh)\n",
    "print('\\n')\n",
    "print(open_fileg[1])"
   ]
  },
  {
   "cell_type": "markdown",
   "metadata": {},
   "source": [
    "## We will proceed to delete that row."
   ]
  },
  {
   "cell_type": "code",
   "execution_count": 4,
   "metadata": {},
   "outputs": [
    {
     "name": "stdout",
     "output_type": "stream",
     "text": [
      "10841\n",
      "10840\n"
     ]
    }
   ],
   "source": [
    "print(len(googles))\n",
    "del googles[10472]\n",
    "print(len(googles))"
   ]
  },
  {
   "cell_type": "markdown",
   "metadata": {},
   "source": [
    "## Now we will check if there is any duplicated entries on the Google App File."
   ]
  },
  {
   "cell_type": "code",
   "execution_count": 5,
   "metadata": {},
   "outputs": [
    {
     "name": "stdout",
     "output_type": "stream",
     "text": [
      "Number of Duplicated Apps in Google Store is 1181\n",
      "\n",
      "\n",
      "Names and number of replicas of Duplicated Apps  {'Quick PDF Scanner + OCR FREE': 2, 'Box': 2, 'Google My Business': 2, 'ZOOM Cloud Meetings': 1, 'join.me - Simple Meetings': 2, 'Zenefits': 1, 'Google Ads': 2, 'Slack': 2, 'FreshBooks Classic': 1, 'Insightly CRM': 1, 'QuickBooks Accounting: Invoicing & Expenses': 2, 'HipChat - Chat Built for Teams': 1, 'Xero Accounting Software': 1, 'MailChimp - Email, Marketing Automation': 1, 'Crew - Free Messaging and Scheduling': 1, 'Asana: organize team projects': 1, 'Google Analytics': 1, 'AdWords Express': 1, 'Accounting App - Zoho Books': 1, 'Invoice & Time Tracking - Zoho': 1, 'Invoice 2go — Professional Invoices and Estimates': 1, 'SignEasy | Sign and Fill PDF and other Documents': 1, 'Genius Scan - PDF Scanner': 1, 'Tiny Scanner - PDF Scanner App': 1, 'Fast Scanner : Free PDF Scan': 1, 'Mobile Doc Scanner (MDScan) Lite': 1, 'TurboScan: scan documents and receipts in PDF': 1, 'Tiny Scanner Pro: PDF Doc Scan': 1, 'Docs To Go™ Free Office Suite': 1, 'OfficeSuite : Free Office + PDF Editor': 1, 'WhatsApp Messenger': 2, 'Messenger – Text and Video Chat for Free': 2, 'imo free video calls and chat': 3, 'Viber Messenger': 4, 'Hangouts': 3, 'WeChat': 3, 'Telegram': 2, 'Who': 1, 'Google Voice': 2, 'Android Messages': 1, 'Firefox Focus: The privacy browser': 2, 'Google Allo': 2, 'Google Chrome: Fast & Secure': 2, 'Firefox Browser fast & private': 2, 'Puffin Web Browser': 2, 'Opera Browser: Fast and Secure': 2, 'Opera Mini - fast web browser': 2, 'UC Browser Mini -Tiny Fast Private & Secure': 2, 'UC Browser - Fast Download Private & Secure': 2, 'Calls & Text by Mo+': 1, 'Call Blocker': 1, 'Gmail': 2, 'Yahoo Mail – Stay Organized': 2, 'free video calls and chat': 2, 'Skype - free IM & video calls': 2, 'Glide - Video Chat Messenger': 1, 'Talkray - Free Calls & Texts': 1, 'LINE: Free Calls & Messages': 2, 'KakaoTalk: Free Calls & Text': 2, 'OkCupid Dating': 2, 'CMB Free Dating App': 1, 'Hily: Dating, Chat, Match, Meet & Hook up': 2, 'Hinge: Dating & Relationships': 1, 'BBW Dating & Plus Size Chat': 2, 'Casual Dating & Adult Singles - Joyride': 1, 'EliteSingles – Dating for Single Professionals': 1, 'Clover Dating App': 1, 'Moco - Chat, Meet People': 2, 'Hot or Not - Find someone right now': 2, 'Just She - Top Lesbian Dating': 2, 'Once - Quality Matches Every day': 1, 'Sudy – Meet Elite & Rich Single': 1, 'muzmatch: Muslim & Arab Singles, Marriage & Dating': 2, 'Chispa, the Dating App for Latino, Latina Singles': 1, 'Blendr - Chat, Flirt & Meet': 1, 'Find Real Love — YouLove Premium Dating': 1, 'Cougar Dating Life : Date Older Women Sugar Mummy': 1, 'stranger chat - anonymous chat': 1, 'Millionaire Match: Rich Singles Dating App': 1, 'Dating for 50 plus Mature Singles – FINALLY': 1, 'Moco+ - Chat, Meet People': 1, 'Chat Rooms, Avatars, Date - Galaxy': 1, 'FastMeet: Chat, Dating, Love': 1, 'Christian Dating For Free App': 1, 'Meet24 - Love, Chat, Singles': 1, 'Black White Interracial Dating - Interracial Match': 1, 'Gay Sugar Daddy Dating & Hookup – Sudy Gay': 1, 'Adult Dirty Emojis': 2, 'Hide App, Private Dating, Safe Chat - PrivacyHider': 1, 'Meet4U - Chat, Love, Singles!': 1, '95Live -SG#1 Live Streaming App': 1, 'O-Star': 2, 'Random Video Chat': 1, 'Black People Meet Singles Date': 1, 'Howlr': 1, 'Free Dating & Flirt Chat - Choice of Love': 1, 'Cardi B Live Stream Video Chat - Prank': 1, 'Chat Kids - Chat Room For Kids': 1, 'Transenger – Ts Dating and Chat for Free': 1, 'BBW Dating & Curvy Singles Chat- LargeFriends': 1, 'MouseMingle': 1, 'FlirtChat - ♥Free Dating/Flirting App♥': 1, 'Live Talk - Free Text and Video Chat': 1, 'Free Cam Girls - Live Webcam': 1, 'Random Video Chat App With Strangers': 1, 'Live Girls Talk - Free Video Chat': 1, 'Girls Live Chat - Free Text & Video Chat': 1, 'Free Dating App - Meet Local Singles - Flirt Chat': 1, 'iPair-Meet, Chat, Dating': 1, 'Free Dating Hook Up Messenger': 1, 'Free Dating App - YoCutie - Flirt, Chat & Meet': 1, 'Khan Academy': 2, 'TED': 3, 'Lumosity: #1 Brain Games & Cognitive Training App': 1, 'Udemy - Online Courses': 2, 'Duolingo: Learn Languages Free': 6, 'Quizlet: Learn Languages & Vocab with Flashcards': 3, 'Coursera: Online courses': 1, 'Udacity - Lifelong Learning': 1, 'edX - Online Courses by Harvard, MIT & more': 1, 'Lynda - Online Training Videos': 1, 'Learn languages, grammar & vocabulary with Memrise': 3, 'Brilliant': 1, 'Babbel – Learn Languages': 3, 'Rosetta Stone: Learn to Speak & Read New Languages': 3, 'Learn English with Wlingua': 1, 'Google Classroom': 2, 'Learn 50 languages': 1, 'Mango Languages: Lovable Language Courses': 1, 'busuu: Learn Languages - Spanish, English & More': 3, 'My Class Schedule: Timetable': 1, 'Socratic - Math Answers & Homework Help': 1, 'ClassDojo': 2, 'HelloTalk — Chat, Speak & Learn Foreign Languages': 1, 'Movies by Flixster, with Rotten Tomatoes': 2, 'IMDb Movies & TV': 2, 'Netflix': 4, 'Tubi TV - Free Movies & TV': 2, 'Crunchyroll - Everything Anime': 2, 'STARZ': 2, 'Crackle - Free TV & Movies': 2, 'CBS - Full Episodes & Live TV': 1, 'Nick': 5, 'Hulu: Stream TV, Movies & more': 3, 'FOX NOW - On Demand & Live TV': 2, 'The CW': 3, 'HISTORY: Watch TV Show Full Episodes & Specials': 2, 'HBO NOW: Stream TV & Movies': 3, 'A&E - Watch Full Episodes of TV Shows': 3, 'VH1': 2, 'Lifetime - Watch Full Episodes & Original Movies': 2, 'BET NOW - Watch Shows': 2, 'Food Network': 2, 'Viki: Asian TV Dramas & Movies': 2, 'Univision NOW - Live TV and On Demand': 1, 'SHOWTIME': 1, 'MTV': 1, 'Comedy Central': 1, 'FOX': 1, 'Telemundo Now': 1, 'Fandango Movies - Times + Tickets': 1, 'Google Pay': 3, 'Wells Fargo Daily Change': 1, 'Credit Karma': 2, 'Robinhood - Investing, No Fees': 1, 'Digit Save Money Automatically': 1, 'Acorns - Invest Spare Change': 1, 'Money Lover: Expense Tracker, Budget Planner': 1, 'Mint: Budget, Bills, Finance': 2, 'Simple - Better Banking': 1, 'PayPal': 1, 'Wells Fargo Mobile': 1, 'Capital One® Mobile': 1, 'Grubhub: Food Delivery': 1, 'Postmates Food Delivery: Order Eats & Alcohol': 1, \"Domino's Pizza USA\": 1, 'Chick-fil-A': 2, 'Zomato - Restaurant Finder and Food Delivery App': 1, 'Run with Map My Run': 2, 'Weight Loss Running by Verv': 2, 'Nike+ Run Club': 3, 'Runtastic Running App & Mile Tracker': 2, '8fit Workouts & Meal Planner': 1, 'Daily Yoga - Yoga Fitness Plans': 2, 'Pocket Yoga': 1, 'Calorie Counter - MyFitnessPal': 4, 'Seven - 7 Minute Workout Training Challenge': 1, 'Weight Watchers Mobile': 2, 'Walk with Map My Walk': 1, 'Workout Trainer: fitness coach': 1, 'Nike Training Club - Workouts & Fitness Plans': 2, 'Fitbit Coach': 1, 'Endomondo - Running & Walking': 1, 'Runkeeper - GPS Track Run Walk': 1, 'Lose It! - Calorie Counter': 2, 'Calorie Counter - MyNetDiary': 1, '10 Best Foods for You': 1, 'MyPlate Calorie Tracker': 1, 'Weight Loss Tracker - RecStyle': 1, 'Calorie Counter by FatSecret': 1, 'Calorie Counter - Macros': 1, 'My Diet Diary Calorie Counter': 1, 'Lark - 24/7 Health Coach': 1, 'Calorie Counter & Diet Tracker': 1, 'MealLogger-Photo Food Journal': 1, 'Health and Nutrition Guide': 1, 'Food Calorie Calculator': 1, 'Relax Meditation: Sleep with Sleep Sounds': 1, 'Meditation Music - Relax, Yoga': 1, '21-Day Meditation Experience': 1, 'Fabulous: Motivate Me! Meditate, Relax, Sleep': 1, 'Calm - Meditate, Sleep, Relax': 1, 'Relax Melodies: Sleep Sounds': 1, 'Simple Habit Meditation': 1, 'Headspace: Meditation & Mindfulness': 1, 'Houzz Interior Design Ideas': 3, 'Mortgage by Zillow: Calculator & Rates': 1, 'Redfin Real Estate': 1, 'Apartment List: Housing, Apt, and Property Rentals': 1, 'Realtor.com Real Estate: Homes for Sale and Rent': 1, 'Trulia Real Estate & Rentals': 1, 'Zillow: Find Houses for Sale & Apartments for Rent': 1, 'Apartments & Rentals - Zillow': 1, 'Trulia Rent Apartments & Homes': 1, 'Apartments.com Rental Search': 1, 'Vaniday - Beauty Booking App': 1, 'StyleSeat': 1, 'JOANN - Crafts & Coupons': 1, 'Fashion in Vogue': 2, 'Wheretoget: Shop in style': 1, 'My Dressing - Fashion closet': 1, 'Chictopia': 1, 'Scarf Fashion Designer': 1, 'Zara': 1, 'Subway Surfers': 5, 'ROBLOX': 8, 'Pou': 3, '8 Ball Pool': 6, 'Clash of Clans': 3, 'Candy Crush Saga': 6, 'Plants vs. Zombies FREE': 4, 'My Talking Angela': 3, 'Bubble Shooter': 5, 'Word Search': 3, 'Candy Crush Soda Saga': 2, 'Fishdom': 2, 'Block Puzzle': 3, 'Clash Royale': 3, 'Sniper 3D Gun Shooter: Free Shooting Games - FPS': 5, 'Granny': 4, 'Galaxy Attack: Alien Shooter': 2, 'Angry Birds Rio': 3, 'Zombie Catchers': 5, 'Zombie Hunter King': 3, 'Temple Run 2': 5, 'Zombie Tsunami': 4, 'Farm Heroes Saga': 4, 'Super Jim Jump - pixel 3d': 2, 'slither.io': 5, 'Angry Birds Classic': 4, 'Flow Free': 4, 'Helix Jump': 5, 'Toon Blast': 2, 'Kick the Buddy': 3, 'Magic Tiles 3': 3, 'Bowmasters': 5, 'Wordscapes': 3, 'Block Craft 3D: Building Simulator Games For Free': 2, 'PUBG MOBILE': 3, 'DRAGON BALL LEGENDS': 3, 'Harry Potter: Hogwarts Mystery': 1, 'MARVEL Strike Force': 2, 'Merge Dragons!': 1, 'Honkai Impact 3rd': 1, 'Toy Blast': 1, 'Homescapes': 1, 'Cooking Fever': 1, 'Gardenscapes': 1, 'Score! Hero': 2, 'Dream League Soccer 2018': 2, 'Fruits Bomb': 1, 'Talking Tom Gold Run': 3, 'My Talking Tom': 2, 'Hill Climb Racing': 3, 'Pixel Art: Color by Number Game': 2, 'Rider': 1, 'Garena Free Fire': 3, 'Miraculous Ladybug & Cat Noir - The Official Game': 2, 'Solitaire': 2, 'Traffic Racer': 1, 'Earn to Die 2': 1, 'Bubble Shooter 2': 1, 'Candy Crush Jelly Saga': 1, 'Cut the Rope FULL FREE': 2, 'Jewels Star: OZ adventure': 1, 'Hungry Shark Evolution': 2, 'Best Fiends - Free Puzzle Game': 1, 'Hill Climb Racing 2': 1, 'Swamp Attack': 1, 'Block Puzzle Classic Legend !': 1, 'DEAD TARGET: FPS Zombie Apocalypse Survival Games': 1, 'YouTube Kids': 3, 'Candy Bomb': 1, 'Princess Coloring Book': 1, 'Hello Kitty Nail Salon': 1, 'Dog Run - Pet Dog Simulator': 2, 'Coloring book moana': 1, 'Barbie™ Fashion Closet': 1, 'Minion Rush: Despicable Me Official Game': 3, 'No.Draw - Colors by Number 2018': 1, 'Super ABC! Learning games for kids! Preschool apps': 1, 'PJ Masks: Moonlight Heroes': 2, 'Hot Wheels: Race Off': 1, 'Farming Simulator 14': 1, 'Mcqueen Coloring pages': 1, 'Monster Truck Driver & Racing': 1, 'Strawberry Shortcake BerryRush': 2, 'DC Super Hero Girls™': 3, 'Toca Kitchen 2': 2, 'Disney Magic Kingdoms: Build Your Own Magical Park': 1, 'Toca Life: City': 1, 'Papumba Academy - Fun Learning For Kids': 2, 'Kids Balloon Pop Game Free 🎈': 1, 'Sounds for Toddlers FREE': 1, 'Elmo Calls by Sesame Street': 2, 'Sago Mini Friends': 2, 'Tee and Mo Bath Time Free': 1, 'Bita and the Animals - Pelos Ares': 1, 'TO-FU Oh!SUSHI': 1, 'DreamWorks Friends': 1, 'Avokiddo Emotions': 1, 'Nighty Night Circus': 1, 'Sago Mini Babies': 1, \"Dr. Panda & Toto's Treehouse\": 2, 'PlayKids - Educational cartoons and games for kids': 1, 'Baby Panda Care': 1, 'Monster High™': 1, 'Shopkins World!': 1, 'DisneyNOW – TV Shows & Games': 2, 'Equestria Girls': 2, 'Frozen Free Fall': 2, 'Thomas & Friends: Race On!': 1, 'Inside Out Thought Bubbles': 1, 'School of Dragons': 1, 'Peak – Brain Games & Training': 1, 'Period Tracker': 1, 'Vargo Anesthesia Mega App': 1, 'Monash Uni Low FODMAP Diet': 1, 'mySugr: the blood sugar tracker made just for you': 2, 'Human Anatomy Atlas 2018: Complete 3D Human Body': 2, 'ASCCP Mobile': 1, 'Paramedic Protocol Provider': 1, '2017 EMRA Antibiotic Guide': 1, 'Essential Anatomy 3': 1, 'EMT PASS': 1, 'Block Buddy': 1, 'EMT Review Plus': 1, 'Journal Club: Medicine': 1, 'Pedi STAT': 1, 'AnatomyMapp': 1, 'Diabetes & Diet Tracker': 1, 'A Manual of Acupuncture': 1, 'PTA Content Master': 1, 'Muscle Premium - Human Anatomy, Kinesiology, Bones': 1, 'Cardiac diagnosis (heart rate, arrhythmia)': 2, 'Medical ID - In Case of Emergency (ICE)': 1, 'IBM Micromedex Drug Info': 1, 'Advanced Comprehension Therapy': 1, 'Hospitalist Handbook': 1, 'Teladoc Member': 1, 'Ada - Your Health Guide': 1, 'Ovia Fertility Tracker & Ovulation Calculator': 1, 'Youper - AI Therapy': 2, 'MoodSpace': 1, 'Super Hearing Super Ear Amplifier': 1, 'Penn State Health OnDemand': 1, 'ScriptSave WellRx Rx Discounts': 1, 'Free Blood Pressure': 2, 'All Mental disorders': 1, 'Nurse Grid': 1, 'JH Blood Pressure Monitor': 1, 'Blood Pressure': 2, 'RT 516 VET': 1, 'Anthem Anywhere': 1, 'Sway Medical': 1, \"fred's Pharmacy\": 1, 'Breastfeeding Tracker Baby Log': 1, 'Banfield Pet Health Tracker': 1, '1800 Contacts - Lens Store': 1, 'TextNow - free text + calls': 1, 'Tumblr': 2, 'Snapchat': 3, 'Instagram': 3, 'Periscope - Live Video': 2, 'Pinterest': 2, 'MeetMe: Chat & Meet New People': 4, 'ooVoo Video Calls, Messaging & Stories': 1, 'LinkedIn': 1, 'Tango - Live Video Broadcast': 1, 'SayHi Chat, Meet New People': 2, 'Tapatalk - 100,000+ Forums': 1, 'Badoo - Free Chat & Dating App': 3, 'Nextdoor - Local neighborhood news & classifieds': 1, 'Meetup': 3, 'Text Free: WiFi Calling App': 2, 'textPlus: Free Text & Calls': 1, 'POF Free Dating App': 2, 'Tagged - Meet, Chat & Dating': 1, 'LOVOO': 1, 'SKOUT - Meet, Chat, Go Live': 1, 'Jaumo Dating, Flirt & Live Video': 1, 'Couple - Relationship App': 1, 'Wish - Shopping Made Fun': 4, 'SnipSnap Coupon App': 1, 'Extreme Coupon Finder': 2, 'Checkout 51: Grocery coupons': 2, 'The Coupons App': 3, 'RetailMeNot - Coupons, Deals & Discount Shopping': 2, 'Groupon - Shop Deals, Discounts & Coupons': 3, 'Stocard - Rewards Cards Wallet': 1, 'eBay: Buy & Sell this Summer - Discover Deals Now!': 4, 'Gyft - Mobile Gift Card Wallet': 2, 'Shopkick: Free Gift Cards, Shop Rewards & Deals': 1, 'Shopular: Coupons, Weekly Ads & Shopping Deals': 1, 'Carousell: Snap-Sell, Chat-Buy': 1, 'Walmart': 1, 'Ibotta: Cash Back Savings, Rewards & Coupons App': 1, 'AliExpress - Smarter Shopping, Better Living': 3, 'LivingSocial - Local Deals': 2, 'Amazon Shopping': 2, 'Poshmark - Buy & Sell Fashion': 1, 'Target - now with Cartwheel': 2, 'ZALORA Fashion Shopping': 1, 'Fancy': 2, \"Modcloth – Unique Indie Women's Fashion & Style\": 1, \"JackThreads: Men's Shopping\": 2, 'Zappos – Shoe shopping made simple': 1, 'Wanelo Shopping': 1, 'Etsy: Handmade & Vintage Goods': 1, 'Slickdeals: Coupons & Shopping': 2, 'ASOS': 1, 'Google Photos': 3, 'Shutterfly: Free Prints, Photo Books, Cards, Gifts': 3, 'InstaBeauty -Makeup Selfie Cam': 1, 'B612 - Beauty & Filter Camera': 2, 'BeautyPlus - Easy Photo Editor & Selfie Camera': 4, 'YouCam Perfect - Selfie Photo Editor': 2, 'Muzy - Share photos & collages': 1, 'QuickPic - Photo Gallery with Google Drive Support': 2, 'Flickr': 1, 'Open Camera': 2, 'Camera for Android': 2, 'Cymera Camera- Photo Editor, Filter,Collage,Layout': 3, 'Candy Camera - selfie, beauty camera, photo editor': 2, 'Camera360: Selfie Photo Editor with Funny Sticker': 2, 'Facetune - For Free': 2, 'Photo Editor Selfie Camera Filter & Mirror Image': 1, 'HD Camera for Android': 1, 'Photo Editor Pro': 1, 'YouCam Makeup - Magic Selfie Makeovers': 1, 'Photo Editor-': 1, 'Photo Editor': 1, 'Adobe Photoshop Express:Photo Editor Collage Maker': 1, 'InstaSize Photo Filters & Collage Editor': 1, 'CBS Sports App - Scores, News, Stats & Watch Live': 7, 'Yahoo Fantasy Sports - #1 Rated Fantasy App': 4, 'ESPN': 6, 'NFL': 2, 'Bleacher Report: sports news, scores, & highlights': 5, 'ESPN Fantasy Sports': 3, 'theScore: Live Sports Scores, News, Stats & Videos': 4, 'MLB At Bat': 4, 'WatchESPN': 3, 'Hole19: Golf GPS App, Rangefinder & Scorecard': 1, 'CBS Sports Fantasy': 1, 'Yahoo Sports - scores, stats, news, & highlights': 2, 'FotMob - Live Soccer Scores': 1, 'US Open Tennis Championships 2018': 1, 'FIFA - Tournaments, Soccer News & Live Scores': 1, 'Golfshot: Golf GPS + Tee Times': 1, 'BBC Sport': 1, 'MLB Ballpark': 1, 'FOX Sports: Live Streaming, Scores & News': 1, 'Fantasy Football': 1, 'PGA TOUR': 1, 'UFC': 1, 'trivago: Hotels & Travel': 2, 'Expedia Hotels, Flights & Car Rental Travel Deals': 3, 'TripAdvisor Hotels Flights Restaurants Attractions': 4, 'Skyscanner': 4, 'Booking.com Travel Deals': 2, 'Priceline Hotel Deals, Rental Cars & Flights': 2, 'United Airlines': 1, 'Southwest Airlines': 1, 'Hopper - Watch & Book Flights': 1, 'Fly Delta': 1, 'KAYAK Flights, Hotels & Cars': 2, 'American Airlines': 2, 'Orbitz - Hotels, Flights & Package Deals': 1, 'Hotels.com: Book Hotel Rooms & Find Vacation Deals': 1, 'Hostelworld: Hostels & Cheap Hotels Travel App': 1, 'Airbnb': 1, 'HotelTonight: Book amazing deals at great hotels': 2, 'Maps - Navigate & Explore': 2, 'Google Street View': 1, 'Calculator': 1, 'Gboard - the Google Keyboard': 2, 'ZEDGE™ Ringtones & Wallpapers': 3, 'Nova Launcher': 1, 'Apex Launcher': 2, 'Smart Launcher 5': 1, 'Google Keep': 3, 'Evernote – Organizer, Planner for Notes & Memos': 3, 'ES File Explorer File Manager': 2, 'Microsoft Word': 2, 'Google Drive': 3, 'Adobe Acrobat Reader': 2, 'Google PDF Viewer': 2, 'Microsoft Excel': 1, 'Google Docs': 2, 'Microsoft PowerPoint': 1, 'Microsoft OneNote': 2, 'Google Calendar': 2, 'Wunderlist: To-Do List & Tasks': 2, 'Any.do: To-do list, Calendar, Reminders & Planner': 2, 'Todoist: To-do lists for task management & errands': 2, 'Planner Pro-Personal Organizer': 1, 'Microsoft OneDrive': 1, 'Dropbox': 2, 'MX Player': 2, 'Video Editor': 2, 'Google News': 3, 'Flipboard: News For Our Time': 2, 'BBC News': 2, 'Fox News – Breaking News, Live Video & News Alerts': 2, 'USA TODAY': 2, 'CNN Breaking US & World News': 2, 'Twitter': 2, 'NPR News': 1, 'Haystack TV: Local & World News - Free': 1, 'ABC News - US & World News': 1, 'NBC News': 1, 'The Wall Street Journal: Business & Market News': 1, 'NYTimes - Latest News': 2, 'Newsroom: News Worth Sharing': 1, 'BuzzFeed: News, Tasty, Quizzes': 1, 'Flashlight': 1, 'Agar.io': 1, 'LEGO® Juniors Create & Cruise': 1, 'Google Translate': 1, 'Pokémon GO': 1, 'PAC-MAN': 1, 'Colorfy: Coloring Book for Adults - Free': 1, 'YouTube': 1, \"Alto's Adventure\": 1, 'Facebook': 1, 'VPN Free - Betternet Hotspot VPN & Private Browser': 1, 'EMT Tutor NREMT-B Study Guide': 1, 'EMT-B Pocket Prep': 1, 'Diary with lock': 1, 'C Programming': 1, 'CppDroid - C/C++ IDE': 1, 'Learn C++': 1, 'Google Duo - High Quality Video Calls': 1, 'Crossy Road': 1, 'E*TRADE Mobile': 1, 'WWE': 1, 'Amazon Kindle': 1, 'Microsoft Edge': 1, 'Microsoft Outlook': 1, 'Ebook Reader': 1, 'Flipkart Online Shopping App': 1, 'Facebook Lite': 1, 'Messenger Lite: Free Calls & Messages': 1, 'imo beta free calls and text': 1, 'Geometry Dash World': 1, 'Google+': 1, 'Google': 1, 'G Cloud Backup': 1, 'H&M': 1, 'H TV': 1, 'Talking Ben the Dog': 1, 'Sonic Dash': 1, 'Talkatone: Free Texts, Calls & Phone Number': 1, 'Textgram - write on photos': 1, 'Jetpack Joyride': 1, 'Anger of stick 5 : zombie': 1, 'Turbo FAST': 1, 'K PLUS': 1, 'PowerDirector Video Editor App: 4K, Slow Mo & More': 1, 'Fuzzy Numbers: Pre-K Number Foundation': 1, 'LiveMe - Video chat, new friends, and make money': 1, 'letgo: Buy & Sell Used Stuff, Cars & Real Estate': 1, 'Love Balls': 1, 'Last Day on Earth: Survival': 1, 'Minecraft': 1, 'MEGA': 1, 'I’m Expecting - Pregnancy App': 1, 'Diabetes:M': 1, 'PicsArt Photo Studio: Collage Maker & Pic Editor': 1, 'Quora': 1, 'SHAREit - Transfer & Share': 1, 'Topbuzz: Breaking News, Videos & Funny GIFs': 1, 'Twitch: Livestream Multiplayer Games & Esports': 1, 'myAT&T': 1, 'Truecaller: Caller ID, SMS spam blocking & Dialer': 1, 'Showtime Anytime': 1, 'Uber': 1, 'VLC for Android': 1, 'Vigo Video': 1, 'Wattpad 📖 Free Books': 1, 'Waze - GPS, Maps, Traffic Alerts & Live Navigation': 1, 'Dating App, Flirt & Chat : W-Match': 1, 'WPS Office - Word, Docs, PDF, Note, Slide & Sheet': 1, 'LINE WEBTOON - Free Comics': 1, 'WhatsApp Business': 1, 'We Heart It': 1, 'Telegram X': 1, 'Share Music & Transfer Files - Xender': 1, 'Yandex Browser with Protect': 1, 'YouTube Studio': 1, 'PBS KIDS Video': 1, 'YouTube Gaming': 1, 'GO Keyboard - Emoticon keyboard, Free Theme, GIF': 1, 'Zello PTT Walkie Talkie': 1, 'Z Camera - Photo Editor, Beauty Selfie, Collage': 1, 'Six Pack in 30 Days - Abs Workout': 1, 'Angry Birds 2': 1, 'AC - Tips & News for Android™': 1, 'CM Browser - Ad Blocker , Fast Download , Privacy': 1, 'Mobi Calculator free & AD free!': 1, 'Flipp - Weekly Shopping': 1, 'Camera FV-5 Lite': 1, 'All Football - Latest News & Videos': 1, 'Maricopa AH': 1, 'Animal Jam - Play Wild!': 1, 'RULES OF SURVIVAL': 1, 'Amazon for Tablets': 1, 'Final Fantasy XV: A New Empire': 1, 'The Sims™ FreePlay': 1, 'Text free - Free Text + Call': 1, '365Scores - Live Scores': 1, 'DINO HUNTER: DEADLY SHORES': 1, 'AP Mobile - Breaking News': 1, 'Reuters News': 1, 'AccuWeather: Daily Forecast & Live Weather Reports': 1, 'Moovit: Bus Time & Train Time Live Info': 1, 'Jurassic World™ Alive': 1, 'Overstock – Home Decor, Furniture Shopping': 1, 'Choices: Stories You Play': 1, 'Runtastic Sleep Better: Sleep Cycle & Smart Alarm': 1, 'Ringtone Maker': 1, 'Plants vs. Zombies™ Heroes': 1, 'CM FILE MANAGER HD': 1, 'realestate.com.au - Buy, Rent & Sell Property': 1, 'Video Player All Format': 1, 'DEER HUNTER 2018': 1, 'Google Play Games': 1, 'ai.type Free Emoji Keyboard': 1, 'Manga AZ - Manga Comic Reader': 1, 'British Airways': 1, 'Anthem BC Anywhere': 1, 'Transit: Real-Time Transit App': 1, 'PMHNP-BC Pocket Prep': 1, 'Backgrounds HD (Wallpapers)': 1, 'Blur Image Background': 1, 'Newegg Mobile': 1, 'English Dictionary - Offline': 1, 'English Grammar Test': 1, 'Daily Manga - Comic & Webtoon': 1, 'BBM - Free Calls & Messages': 1, 'BeyondMenu Food Delivery': 1, 'NOOK: Read eBooks & Magazines': 1, 'NOOK App for NOOK Devices': 1, 'HBO GO: Stream with TV Package': 1, 'No Crop & Square for Instagram': 1, 'Hungry Shark World': 1, 'iBP Blood Pressure': 1, 'Blood Pressure Log - MyDiary': 1, 'Blood Pressure(BP) Diary': 1, 'BP Journal - Blood Pressure Diary': 1, 'Blood Pressure Monitor': 1, 'Blood Pressure Companion': 1, 'High Blood Pressure Symptoms': 1, 'QR Scanner & Barcode Scanner 2018': 1, 'Camera FV-5': 1, 'Camera MX - Free Photo & Video Camera': 1, 'Cardboard': 1, 'Maps & GPS Navigation — OsmAnd': 1, 'Beautiful Widgets Pro': 1, 'Beautiful Widgets Free': 1, 'HD Widgets': 1, 'Color by Number – New Coloring Book': 1, 'Photo Editor by Aviary': 1, 'UNICORN - Color By Number & Pixel Art Coloring': 1, '420 BZ Budeze Delivery': 1, 'BZWBK24 mobile': 1, 'Zoosk Dating App: Meet Singles': 1, 'Cricbuzz - Live Cricket Scores & News': 1, 'Cheapflights – Flight Search': 1, 'Chrome Beta': 1, 'Chrome Dev': 1, 'CJmall': 1, 'Castle Clash: Heroes of the Empire US': 1, 'CM Launcher 3D - Theme, Wallpapers, Efficient': 1, 'CM Locker - Security Lockscreen': 1, 'CM Flashlight (Compass, SOS)': 1, 'Ruler': 1, 'Cartoon Network App': 1, 'LEGO® TV': 1, 'Brit + Co': 1, 'CT Scan Cross Sectional Anatomy': 1, 'Shadow Fight 2': 1, 'Curriculum vitae App CV Builder Free Resume Maker': 1, 'CW Seed': 1, 'Camera360 Lite - Selfie Camera': 1, 'Mapy.cz - Cycling & Hiking offline maps': 1, 'Face Filter, Selfie Editor - Sweet Camera': 1, 'Metal Soldiers 2': 1, \"COOKING MAMA Let's Cook!\": 1, 'Run Sausage Run!': 1, 'Knife Hit': 1, 'DC Comics': 1, 'MARVEL Contest of Champions': 1, 'wetter.com - Weather and Radar': 1, 'CallApp: Caller ID, Blocker & Phone Call Recorder': 1, 'LINE Camera - Photo editor': 1, 'Racing in Car 2': 1, 'Dungeon Hunter Champions: Epic Online Action RPG': 1, 'Red Bull TV: Live Sports, Music & Entertainment': 1, 'Idle Heroes': 1, 'Free phone calls, free texting SMS on free number': 1, 'Phone Tracker : Family Locator': 1, 'My Photo Keyboard': 1, 'Whoscall - Caller ID & Block': 1, 'Google Sheets': 1, 'Video Downloader': 1, 'Notepad & To do list': 1, 'Polaris Office - Word, Docs, Sheets, Slide, PDF': 1, 'Do It Later: Tasks & To-Dos': 1, 'To-Do Calendar Planner': 1, 'TickTick: To Do List with Reminder, Day Planner': 1, 'ColorNote Notepad Notes': 1, 'Dude Perfect 2': 1, 'Dairy Queen': 1, 'SONIC Drive-In': 1, \"McDonald's\": 1, 'Wendy’s – Food and Offers': 1, \"Dunkin' Donuts\": 1, 'SUBWAY®': 1, 'Panera Bread': 1, 'Starbucks': 1, 'Cache Cleaner-DU Speed Booster (booster & cleaner)': 1, 'DU Browser—Browse fast & fun': 1, 'Real Racing 3': 1, 'My Little Pony Celebration': 1, 'My Little Pony: Harmony Quest': 1, 'The Emirates App': 1, 'Phogy, 3D Camera': 1, 'Weather by eltiempo.es': 1, 'The Game of Life': 1, 'Spanish English Translator': 1, \"Game for KIDS: KIDS match'em\": 1, 'Dictionary - Merriam-Webster': 1, 'Edmodo': 1, 'Chess Free': 1, 'Oxford Dictionary of English : Free': 1, 'Masha and the Bear Child Games': 1, 'Episode - Choose Your Story': 1, 'The NBC App - Watch Live TV and Full Episodes': 1, 'Moto File Manager': 1, 'Moneycontrol – Stocks, Sensex, Mutual Funds, IPO': 1, 'CNBC: Breaking Business News & Live Market Data': 1, 'Google Earth': 1, 'Amino: Communities and Chats': 1, 'Hangouts Dialer - Call Phones': 1, 'Offline Maps & Navigation': 1, 'Strawberry Shortcake Ice Cream Island': 1, 'Home Workout - No Equipment': 1, 'Home Security Camera WardenCam - reuse old phones': 1, 'Web Browser for Android': 1, 'Airway Ex - Intubate. Anesthetize. Train.': 1, 'FilterGrid - Cam&Photo Editor': 1, 'Messages, Text and Video Chat for Messenger': 1, 'All Social Networks': 1, 'Premier League - Official App': 1, 'Fallout Shelter': 1, 'Facebook Pages Manager': 1, 'Facebook Ads Manager': 1, 'Who Viewed My Facebook Profile - Stalkers Visitors': 1, 'The 5th Stand': 1, 'osmino Wi-Fi: free WiFi': 1, 'Fun Kid Racing - Motocross': 1, 'Podcast App: Free & Offline Podcasts by Player FM': 1, 'Motorola FM Radio': 1, 'FarmersOnly Dating': 1, 'FP Notebook': 1, 'AAFP': 1}\n",
      "\n",
      "\n",
      "Number of NOT Duplicated Apps is 9659\n"
     ]
    }
   ],
   "source": [
    "lst_dupl = []\n",
    "lst_sing = []\n",
    "dicc_dupl = {}\n",
    "\n",
    "for regi in googles:\n",
    "    name = regi[0]\n",
    "    if name in lst_sing:\n",
    "        lst_dupl.append(name)\n",
    "        if name in dicc_dupl:\n",
    "            dicc_dupl[name] += 1\n",
    "        else:\n",
    "            dicc_dupl[name] = 1\n",
    "    else:\n",
    "        lst_sing.append(name)\n",
    "\n",
    "print('Number of Duplicated Apps in Google Store is ' + str(len(lst_dupl)) + '')\n",
    "print('\\n')\n",
    "print('Names and number of replicas of Duplicated Apps ', dicc_dupl)\n",
    "print('\\n')\n",
    "print('Number of NOT Duplicated Apps is ' + str(len(lst_sing)) + '')"
   ]
  },
  {
   "cell_type": "markdown",
   "metadata": {},
   "source": [
    "## Now we will do the same with duplicated entries on the Apple Store File."
   ]
  },
  {
   "cell_type": "code",
   "execution_count": 6,
   "metadata": {},
   "outputs": [
    {
     "name": "stdout",
     "output_type": "stream",
     "text": [
      "Number of Duplicated Apps in Apple Store is 2\n",
      "\n",
      "\n",
      "Names and number of replicas of Duplicated Apps  {'Mannequin Challenge': 1, 'VR Roller Coaster': 1}\n",
      "\n",
      "\n",
      "Number of NOT Duplicated Apps is 7195\n"
     ]
    }
   ],
   "source": [
    "lst_dupl0 = []\n",
    "lst_sing0 = []\n",
    "dicc_dupl0 = {}\n",
    "\n",
    "for regi in apples:\n",
    "    name0 = regi[1]\n",
    "    if name0 in lst_sing0:\n",
    "        lst_dupl0.append(name0)\n",
    "        if name0 in dicc_dupl0:\n",
    "            dicc_dupl0[name0] += 1\n",
    "        else:\n",
    "            dicc_dupl0[name0] = 1\n",
    "    else:\n",
    "        lst_sing0.append(name0)\n",
    "\n",
    "print('Number of Duplicated Apps in Apple Store is ' + str(len(lst_dupl0)) + '')\n",
    "print('\\n')\n",
    "print('Names and number of replicas of Duplicated Apps ', dicc_dupl0)\n",
    "print('\\n')\n",
    "print('Number of NOT Duplicated Apps is ' + str(len(lst_sing0)) + '')"
   ]
  },
  {
   "cell_type": "markdown",
   "metadata": {},
   "source": [
    "## Below we will check if a few specific names are included inside the Data Set using the same lists from the code above."
   ]
  },
  {
   "cell_type": "code",
   "execution_count": 7,
   "metadata": {},
   "outputs": [
    {
     "name": "stdout",
     "output_type": "stream",
     "text": [
      "Exist in Google Store?\n",
      "Instagram\n",
      "True\n",
      "Facebook\n",
      "True\n",
      "Snapchat\n",
      "True\n",
      "Made Up App\n",
      "False\n",
      "Bible\n",
      "True\n",
      "\n",
      "\n",
      "Exist in Apple Store?\n",
      "Instagram\n",
      "True\n",
      "Facebook\n",
      "True\n",
      "Snapchat\n",
      "True\n",
      "Made Up App\n",
      "False\n",
      "Biblie\n",
      "True\n"
     ]
    }
   ],
   "source": [
    "app_g = lst_sing\n",
    "app_a = lst_sing0\n",
    "\n",
    "print('Exist in Google Store?')\n",
    "print('Instagram')\n",
    "print('Instagram' in app_g)\n",
    "print('Facebook')\n",
    "print('Facebook' in app_g)\n",
    "print('Snapchat')\n",
    "print('Snapchat' in app_g)\n",
    "print('Made Up App')\n",
    "print('Made Up App' in app_g)\n",
    "print('Bible')\n",
    "print('Bible' in app_g)\n",
    "print('\\n')\n",
    "print('Exist in Apple Store?')\n",
    "print('Instagram')\n",
    "print('Instagram' in app_a)\n",
    "print('Facebook')\n",
    "print('Facebook' in app_a)\n",
    "print('Snapchat')\n",
    "print('Snapchat' in app_a)\n",
    "print('Made Up App')\n",
    "print('Made Up App' in app_a)\n",
    "print('Biblie')\n",
    "print('Bible' in app_a)"
   ]
  },
  {
   "cell_type": "markdown",
   "metadata": {},
   "source": [
    "## Now we will proceed to delete all the duplicated entries on both files, leaving only the ones with higher number of reviews.\n",
    "Let's start by checking the number of non replicated apps on both data sets."
   ]
  },
  {
   "cell_type": "code",
   "execution_count": 8,
   "metadata": {},
   "outputs": [
    {
     "name": "stdout",
     "output_type": "stream",
     "text": [
      "Expected lengh of the file with no duplicates for Google Store is 9659\n",
      "Expected lengh of the file with no duplicates for Apple Store is 7195\n"
     ]
    }
   ],
   "source": [
    "regi_unicg = len(googles) -len(lst_dupl)\n",
    "print('Expected lengh of the file with no duplicates for Google Store is', regi_unicg)\n",
    "\n",
    "regi_unica = len(apples) -len(lst_dupl0)\n",
    "print('Expected lengh of the file with no duplicates for Apple Store is', regi_unica)"
   ]
  },
  {
   "cell_type": "markdown",
   "metadata": {},
   "source": [
    "## Let's check the headers for both data sets to know the positions of each field."
   ]
  },
  {
   "cell_type": "code",
   "execution_count": 9,
   "metadata": {},
   "outputs": [
    {
     "name": "stdout",
     "output_type": "stream",
     "text": [
      "['App', 'Category', 'Rating', 'Reviews', 'Size', 'Installs', 'Type', 'Price', 'Content Rating', 'Genres', 'Last Updated', 'Current Ver', 'Android Ver']\n",
      "\n",
      "\n",
      "['id', 'track_name', 'size_bytes', 'currency', 'price', 'rating_count_tot', 'rating_count_ver', 'user_rating', 'user_rating_ver', 'ver', 'cont_rating', 'prime_genre', 'sup_devices.num', 'ipadSc_urls.num', 'lang.num', 'vpp_lic']\n"
     ]
    }
   ],
   "source": [
    "print(googleh)\n",
    "print('\\n')\n",
    "print(appleh)"
   ]
  },
  {
   "cell_type": "markdown",
   "metadata": {},
   "source": [
    "## We will create a dictionary with all the duplicates with the higher value rating for the Google Store.\n",
    "After creating the dicctionary we will create two (02) lists that properly will help us to clean up the data set."
   ]
  },
  {
   "cell_type": "code",
   "execution_count": 10,
   "metadata": {},
   "outputs": [
    {
     "name": "stdout",
     "output_type": "stream",
     "text": [
      "Lenght of diccionary not Duplicated and with Higher Nuber of Reviews 9659\n",
      "\n",
      "\n",
      "['Photo Editor & Candy Camera & Grid & ScrapBook', 'ART_AND_DESIGN', '4.1', '159', '19M', '10,000+', 'Free', '0', 'Everyone', 'Art & Design', 'January 7, 2018', '1.0.0', '4.0.3 and up']\n",
      "\n",
      "\n",
      "['U Launcher Lite – FREE Live Cool Themes, Hide Apps', 'ART_AND_DESIGN', '4.7', '87510', '8.7M', '5,000,000+', 'Free', '0', 'Everyone', 'Art & Design', 'August 1, 2018', '1.2.4', '4.0.3 and up']\n",
      "\n",
      "\n",
      "['Sketch - Draw & Paint', 'ART_AND_DESIGN', '4.5', '215644', '25M', '50,000,000+', 'Free', '0', 'Teen', 'Art & Design', 'June 8, 2018', 'Varies with device', '4.2 and up']\n",
      "\n",
      "\n",
      "Number of rows: 9659\n",
      "Number of columns: 13\n"
     ]
    }
   ],
   "source": [
    "dicc_g = {}\n",
    "\n",
    "for regi in googles:\n",
    "    key = str(regi[0])\n",
    "    rev = float(regi[3])\n",
    "    if key in dicc_g:\n",
    "        if  dicc_g[key]<rev:\n",
    "            dicc_g[key] = rev\n",
    "    else:\n",
    "        dicc_g[key] = rev\n",
    "\n",
    "print ('Lenght of diccionary not Duplicated and with Higher Nuber of Reviews', len(dicc_g))\n",
    "print ('\\n')\n",
    "\n",
    "google_clean =[]\n",
    "google_added =[]\n",
    "\n",
    "for regi in googles:\n",
    "    key = str(regi[0])\n",
    "    rev = float(regi[3])\n",
    "    if (dicc_g[key] == rev) and (key not in google_added):\n",
    "        google_clean.append(regi)\n",
    "        google_added.append(key)\n",
    "\n",
    "explore_data(google_clean, 0, 3, True)"
   ]
  },
  {
   "cell_type": "markdown",
   "metadata": {},
   "source": [
    "## We will create a dictionary with all the duplicates with the higher value rating for the Apple Store.\n",
    "After creating the dicctionary we will create two (02) lists that properly will help us to clean up the data set."
   ]
  },
  {
   "cell_type": "code",
   "execution_count": 11,
   "metadata": {},
   "outputs": [
    {
     "name": "stdout",
     "output_type": "stream",
     "text": [
      "Lenght of diccionary not Duplicated and with Higher Nuber of Reviews 7195\n",
      "\n",
      "\n",
      "['284882215', 'Facebook', '389879808', 'USD', '0.0', '2974676', '212', '3.5', '3.5', '95.0', '4+', 'Social Networking', '37', '1', '29', '1']\n",
      "\n",
      "\n",
      "['389801252', 'Instagram', '113954816', 'USD', '0.0', '2161558', '1289', '4.5', '4.0', '10.23', '12+', 'Photo & Video', '37', '0', '29', '1']\n",
      "\n",
      "\n",
      "['529479190', 'Clash of Clans', '116476928', 'USD', '0.0', '2130805', '579', '4.5', '4.5', '9.24.12', '9+', 'Games', '38', '5', '18', '1']\n",
      "\n",
      "\n",
      "Number of rows: 7195\n",
      "Number of columns: 16\n"
     ]
    }
   ],
   "source": [
    "dicc_a = {}\n",
    "\n",
    "for regi in apples:\n",
    "    key = str(regi[1])\n",
    "    rev = float(regi[5])\n",
    "    if key in dicc_a:\n",
    "        if  dicc_a[key] < rev:\n",
    "            dicc_a[key] = rev\n",
    "    else:\n",
    "        dicc_a[key] = rev\n",
    "\n",
    "print ('Lenght of diccionary not Duplicated and with Higher Nuber of Reviews', len(dicc_a))\n",
    "print ('\\n')\n",
    "\n",
    "apple_clean =[]\n",
    "apple_added =[]\n",
    "\n",
    "for regi in apples:\n",
    "    key = str(regi[1])\n",
    "    rev = float(regi[5])\n",
    "    if (dicc_a[key] == rev) and (key not in apple_added):\n",
    "        apple_clean.append(regi)\n",
    "        apple_added.append(key)\n",
    "\n",
    "explore_data(apple_clean, 0, 3, True)"
   ]
  },
  {
   "cell_type": "markdown",
   "metadata": {},
   "source": [
    "## Now we will remove NON-ENGLISH apps by searching all the apps names looking for special characters non English based, taking into consideration only ASCII codes under 127.\n",
    "We will start by creating a function that returns a True or False value if a string has more then 3 non english character"
   ]
  },
  {
   "cell_type": "code",
   "execution_count": 12,
   "metadata": {},
   "outputs": [],
   "source": [
    "def non_engl(chain):\n",
    "    nume_char = 0\n",
    "    for character in chain:\n",
    "        if ord(character) > 127:\n",
    "            nume_char += 1\n",
    "    if nume_char > 3:\n",
    "        return False\n",
    "    else:\n",
    "        return True"
   ]
  },
  {
   "cell_type": "markdown",
   "metadata": {},
   "source": [
    "Let's use the function defined above to find App names with 4 or more non English characters on both data sets."
   ]
  },
  {
   "cell_type": "code",
   "execution_count": 13,
   "metadata": {},
   "outputs": [
    {
     "name": "stdout",
     "output_type": "stream",
     "text": [
      "Google English Named Apps:  9614\n",
      "Google Non English Named Apps:  45\n"
     ]
    }
   ],
   "source": [
    "google_step2 = []\n",
    "google_nonengl = []\n",
    "\n",
    "for regi in google_clean:\n",
    "    name = regi[0]    \n",
    "    if non_engl(name) == True:\n",
    "        google_step2.append(regi)\n",
    "    else:\n",
    "        google_nonengl.append(name)\n",
    "\n",
    "print('Google English Named Apps: ', len(google_step2))\n",
    "print('Google Non English Named Apps: ', len(google_nonengl))"
   ]
  },
  {
   "cell_type": "code",
   "execution_count": 14,
   "metadata": {},
   "outputs": [
    {
     "name": "stdout",
     "output_type": "stream",
     "text": [
      "Apple English Named Apps:  6181\n",
      "Apple Non English Named Apps:  1014\n"
     ]
    }
   ],
   "source": [
    "apple_step2 = []\n",
    "apple_nonengl = []\n",
    "\n",
    "for regi in apple_clean:\n",
    "    name = regi[1]    \n",
    "    if non_engl(name) == True:\n",
    "        apple_step2.append(regi)\n",
    "    else:\n",
    "        apple_nonengl.append(name)\n",
    "\n",
    "print('Apple English Named Apps: ', len(apple_step2))\n",
    "print('Apple Non English Named Apps: ', len(apple_nonengl))"
   ]
  },
  {
   "cell_type": "markdown",
   "metadata": {},
   "source": [
    "+ Now that we just removed:\\\n",
    "    **• Removed inaccurate data**\\\n",
    "    **• Removed duplicate app entries**\\\n",
    "    **• Removed non-English apps**\n",
    "\n",
    "We will proceeed to extract only the 'Free' apps from our data sets."
   ]
  },
  {
   "cell_type": "code",
   "execution_count": 15,
   "metadata": {},
   "outputs": [
    {
     "name": "stdout",
     "output_type": "stream",
     "text": [
      "ANDROID APPS\n",
      " Remaining Apps on Google Store = 9614\n",
      "Total Paid Apps on Google Store =  750\n",
      "--------------------------------------\n",
      "Total Free Apps on Google Store = 8864\n",
      "\n",
      "\n",
      "iOS APPS\n",
      " Remaining Apps on Apple Store = 6181\n",
      "Total Paid Apps on Apple Store = 2961\n",
      "--------------------------------------\n",
      "Total Free Apps on Apple Store = 3220\n"
     ]
    }
   ],
   "source": [
    "google_free =[]\n",
    "google_nofree =[]\n",
    "#Cost is in Row 7 as a String\n",
    "\n",
    "for regi in google_step2:\n",
    "    name = regi[1]\n",
    "    cost = regi[7]\n",
    "    if cost == '0':\n",
    "        google_free.append(regi)\n",
    "    else:\n",
    "        google_nofree.append(regi)\n",
    "\n",
    "google_total = google_step2\n",
    "\n",
    "print('ANDROID APPS')\n",
    "print(\" Remaining Apps on Google Store =\", len(google_step2))\n",
    "print(\"Total Paid Apps on Google Store = \", len(google_nofree))\n",
    "print('--------------------------------------')\n",
    "print(\"Total Free Apps on Google Store =\", len(google_free))\n",
    "\n",
    "print(\"\\n\")\n",
    "\n",
    "apple_free =[]\n",
    "apple_nofree =[]\n",
    "#Cost is in Row 4 as a Float\n",
    "\n",
    "for regi in apple_step2:\n",
    "    name = regi[1]\n",
    "    cost = float(regi[4])\n",
    "    if cost == 0.0:\n",
    "        apple_free.append(regi)\n",
    "        #print(\"GRATIS \", regi)\n",
    "    else:\n",
    "        apple_nofree.append(regi)\n",
    "        #print(\"PAGA \", regi)\n",
    "\n",
    "apple_total = apple_step2\n",
    "\n",
    "print('iOS APPS')\n",
    "print(\" Remaining Apps on Apple Store =\", len(apple_step2))\n",
    "print(\"Total Paid Apps on Apple Store =\", len(apple_nofree))\n",
    "print('--------------------------------------')\n",
    "print(\"Total Free Apps on Apple Store =\", len(apple_free))"
   ]
  },
  {
   "cell_type": "markdown",
   "metadata": {},
   "source": [
    "+ Until now our data set is cleaned from its original version, so far we:\n",
    "    - Removed inaccurate data\n",
    "    - Removed duplicate app entries\n",
    "    - Removed non-English apps\n",
    "    - Isolated the free apps\n",
    "\n",
    "Because our developer team is mainly focused on knowing what type of apps are the most popular among the users, we will extract now the frecuency for the genre of all apps from both stores (**'Google'** & **'Apple'**) to get an idea of the most popular ones.\n",
    "\n",
    "Below is the function to obtain the percent of each genre for the apps for **'Android'** and **'iOS'**."
   ]
  },
  {
   "cell_type": "code",
   "execution_count": 16,
   "metadata": {},
   "outputs": [],
   "source": [
    "def freq_table(dataset, index):\n",
    "    table = {}\n",
    "    total = 0\n",
    "    \n",
    "    for regi in dataset:\n",
    "        total += 1\n",
    "        value = regi[index]\n",
    "        if value in table:\n",
    "            table[value] += 1\n",
    "        else:\n",
    "            table[value] = 1\n",
    "            \n",
    "    tabl_perc = {}\n",
    "    for row in table:\n",
    "        percent = ((table[row] / total) * 100)\n",
    "        new_perc = round(percent, 2)\n",
    "        tabl_perc[row] = new_perc\n",
    "    return tabl_perc"
   ]
  },
  {
   "cell_type": "markdown",
   "metadata": {},
   "source": [
    "Below is the function to display the percent of each genre for the apps for **'Android'** and **'iOS'**."
   ]
  },
  {
   "cell_type": "markdown",
   "metadata": {},
   "source": [
    "## Google Store"
   ]
  },
  {
   "cell_type": "code",
   "execution_count": 17,
   "metadata": {},
   "outputs": [
    {
     "data": {
      "text/plain": [
       "{'Art & Design': 0.6,\n",
       " 'Art & Design;Creativity': 0.07,\n",
       " 'Auto & Vehicles': 0.93,\n",
       " 'Beauty': 0.6,\n",
       " 'Books & Reference': 2.14,\n",
       " 'Business': 4.59,\n",
       " 'Comics': 0.61,\n",
       " 'Comics;Creativity': 0.01,\n",
       " 'Communication': 3.24,\n",
       " 'Dating': 1.86,\n",
       " 'Education': 5.35,\n",
       " 'Education;Creativity': 0.05,\n",
       " 'Education;Education': 0.34,\n",
       " 'Education;Pretend Play': 0.06,\n",
       " 'Education;Brain Games': 0.03,\n",
       " 'Entertainment': 6.07,\n",
       " 'Entertainment;Brain Games': 0.08,\n",
       " 'Entertainment;Creativity': 0.03,\n",
       " 'Entertainment;Music & Video': 0.17,\n",
       " 'Events': 0.71,\n",
       " 'Finance': 3.7,\n",
       " 'Food & Drink': 1.24,\n",
       " 'Health & Fitness': 3.08,\n",
       " 'House & Home': 0.82,\n",
       " 'Libraries & Demo': 0.94,\n",
       " 'Lifestyle': 3.89,\n",
       " 'Lifestyle;Pretend Play': 0.01,\n",
       " 'Card': 0.45,\n",
       " 'Arcade': 1.85,\n",
       " 'Puzzle': 1.13,\n",
       " 'Racing': 0.99,\n",
       " 'Sports': 3.46,\n",
       " 'Casual': 1.76,\n",
       " 'Simulation': 2.04,\n",
       " 'Adventure': 0.68,\n",
       " 'Trivia': 0.42,\n",
       " 'Action': 3.1,\n",
       " 'Word': 0.26,\n",
       " 'Role Playing': 0.94,\n",
       " 'Strategy': 0.91,\n",
       " 'Board': 0.38,\n",
       " 'Music': 0.2,\n",
       " 'Action;Action & Adventure': 0.1,\n",
       " 'Casual;Brain Games': 0.14,\n",
       " 'Educational;Creativity': 0.03,\n",
       " 'Puzzle;Brain Games': 0.17,\n",
       " 'Educational;Education': 0.39,\n",
       " 'Casual;Pretend Play': 0.24,\n",
       " 'Educational;Brain Games': 0.07,\n",
       " 'Art & Design;Pretend Play': 0.01,\n",
       " 'Educational;Pretend Play': 0.09,\n",
       " 'Entertainment;Education': 0.01,\n",
       " 'Casual;Education': 0.02,\n",
       " 'Casual;Creativity': 0.07,\n",
       " 'Casual;Action & Adventure': 0.14,\n",
       " 'Music;Music & Video': 0.02,\n",
       " 'Arcade;Pretend Play': 0.01,\n",
       " 'Adventure;Action & Adventure': 0.03,\n",
       " 'Role Playing;Action & Adventure': 0.03,\n",
       " 'Simulation;Pretend Play': 0.02,\n",
       " 'Puzzle;Creativity': 0.02,\n",
       " 'Simulation;Action & Adventure': 0.08,\n",
       " 'Racing;Action & Adventure': 0.17,\n",
       " 'Sports;Action & Adventure': 0.02,\n",
       " 'Educational;Action & Adventure': 0.03,\n",
       " 'Arcade;Action & Adventure': 0.12,\n",
       " 'Entertainment;Action & Adventure': 0.03,\n",
       " 'Art & Design;Action & Adventure': 0.01,\n",
       " 'Puzzle;Action & Adventure': 0.03,\n",
       " 'Education;Action & Adventure': 0.03,\n",
       " 'Strategy;Action & Adventure': 0.01,\n",
       " 'Music & Audio;Music & Video': 0.01,\n",
       " 'Health & Fitness;Education': 0.01,\n",
       " 'Board;Action & Adventure': 0.02,\n",
       " 'Board;Brain Games': 0.08,\n",
       " 'Casual;Music & Video': 0.01,\n",
       " 'Education;Music & Video': 0.03,\n",
       " 'Role Playing;Pretend Play': 0.05,\n",
       " 'Entertainment;Pretend Play': 0.02,\n",
       " 'Medical': 3.53,\n",
       " 'Social': 2.66,\n",
       " 'Shopping': 2.25,\n",
       " 'Photography': 2.94,\n",
       " 'Travel & Local': 2.32,\n",
       " 'Travel & Local;Action & Adventure': 0.01,\n",
       " 'Tools': 8.45,\n",
       " 'Tools;Education': 0.01,\n",
       " 'Personalization': 3.32,\n",
       " 'Productivity': 3.89,\n",
       " 'Parenting': 0.5,\n",
       " 'Parenting;Music & Video': 0.07,\n",
       " 'Parenting;Education': 0.08,\n",
       " 'Parenting;Brain Games': 0.01,\n",
       " 'Weather': 0.8,\n",
       " 'Video Players & Editors': 1.77,\n",
       " 'Video Players & Editors;Music & Video': 0.02,\n",
       " 'Video Players & Editors;Creativity': 0.01,\n",
       " 'News & Magazines': 2.8,\n",
       " 'Maps & Navigation': 1.4,\n",
       " 'Health & Fitness;Action & Adventure': 0.01,\n",
       " 'Educational': 0.37,\n",
       " 'Casino': 0.43,\n",
       " 'Trivia;Education': 0.01,\n",
       " 'Lifestyle;Education': 0.01,\n",
       " 'Card;Action & Adventure': 0.01,\n",
       " 'Books & Reference;Education': 0.01,\n",
       " 'Simulation;Education': 0.01,\n",
       " 'Puzzle;Education': 0.01,\n",
       " 'Adventure;Education': 0.01,\n",
       " 'Role Playing;Brain Games': 0.01,\n",
       " 'Strategy;Education': 0.01,\n",
       " 'Racing;Pretend Play': 0.01,\n",
       " 'Communication;Creativity': 0.01,\n",
       " 'Strategy;Creativity': 0.01}"
      ]
     },
     "execution_count": 17,
     "metadata": {},
     "output_type": "execute_result"
    }
   ],
   "source": [
    "#def display(dataset, index):\n",
    "freq_table(google_free, 9)   "
   ]
  },
  {
   "cell_type": "markdown",
   "metadata": {},
   "source": [
    "## Apple Store"
   ]
  },
  {
   "cell_type": "code",
   "execution_count": 18,
   "metadata": {},
   "outputs": [
    {
     "data": {
      "text/plain": [
       "{'Social Networking': 3.29,\n",
       " 'Photo & Video': 4.97,\n",
       " 'Games': 58.14,\n",
       " 'Music': 2.05,\n",
       " 'Reference': 0.56,\n",
       " 'Health & Fitness': 2.02,\n",
       " 'Weather': 0.87,\n",
       " 'Utilities': 2.52,\n",
       " 'Travel': 1.24,\n",
       " 'Shopping': 2.61,\n",
       " 'News': 1.34,\n",
       " 'Navigation': 0.19,\n",
       " 'Lifestyle': 1.58,\n",
       " 'Entertainment': 7.89,\n",
       " 'Food & Drink': 0.81,\n",
       " 'Sports': 2.14,\n",
       " 'Book': 0.43,\n",
       " 'Finance': 1.12,\n",
       " 'Education': 3.66,\n",
       " 'Productivity': 1.74,\n",
       " 'Business': 0.53,\n",
       " 'Catalogs': 0.12,\n",
       " 'Medical': 0.19}"
      ]
     },
     "execution_count": 18,
     "metadata": {},
     "output_type": "execute_result"
    }
   ],
   "source": [
    "freq_table(apple_free, 11)"
   ]
  },
  {
   "cell_type": "markdown",
   "metadata": {},
   "source": [
    "Now we will try to order the percentages in descending order for both data sets."
   ]
  },
  {
   "cell_type": "code",
   "execution_count": 19,
   "metadata": {},
   "outputs": [],
   "source": [
    "def order_table(dataset, index):\n",
    "    table = freq_table(dataset, index)\n",
    "    table_display = []\n",
    "    for key in table:\n",
    "        key_val_as_tuple = (table[key], key)\n",
    "        table_display.append(key_val_as_tuple)\n",
    "        \n",
    "    table_sorted = sorted(table_display, reverse = True)\n",
    "    for entry in table_sorted:\n",
    "        print(entry[1], ':', entry[0])"
   ]
  },
  {
   "cell_type": "markdown",
   "metadata": {},
   "source": [
    "## Order data set in Google Store"
   ]
  },
  {
   "cell_type": "code",
   "execution_count": 20,
   "metadata": {},
   "outputs": [
    {
     "name": "stdout",
     "output_type": "stream",
     "text": [
      "FAMILY : 18.91\n",
      "GAME : 9.72\n",
      "TOOLS : 8.46\n",
      "BUSINESS : 4.59\n",
      "LIFESTYLE : 3.9\n",
      "PRODUCTIVITY : 3.89\n",
      "FINANCE : 3.7\n",
      "MEDICAL : 3.53\n",
      "SPORTS : 3.4\n",
      "PERSONALIZATION : 3.32\n",
      "COMMUNICATION : 3.24\n",
      "HEALTH_AND_FITNESS : 3.08\n",
      "PHOTOGRAPHY : 2.94\n",
      "NEWS_AND_MAGAZINES : 2.8\n",
      "SOCIAL : 2.66\n",
      "TRAVEL_AND_LOCAL : 2.34\n",
      "SHOPPING : 2.25\n",
      "BOOKS_AND_REFERENCE : 2.14\n",
      "DATING : 1.86\n",
      "VIDEO_PLAYERS : 1.79\n",
      "MAPS_AND_NAVIGATION : 1.4\n",
      "FOOD_AND_DRINK : 1.24\n",
      "EDUCATION : 1.16\n",
      "ENTERTAINMENT : 0.96\n",
      "LIBRARIES_AND_DEMO : 0.94\n",
      "AUTO_AND_VEHICLES : 0.93\n",
      "HOUSE_AND_HOME : 0.82\n",
      "WEATHER : 0.8\n",
      "EVENTS : 0.71\n",
      "PARENTING : 0.65\n",
      "ART_AND_DESIGN : 0.64\n",
      "COMICS : 0.62\n",
      "BEAUTY : 0.6\n"
     ]
    }
   ],
   "source": [
    "order_table(google_free,1)"
   ]
  },
  {
   "cell_type": "markdown",
   "metadata": {},
   "source": [
    "## Order data set in Apple Store"
   ]
  },
  {
   "cell_type": "code",
   "execution_count": 21,
   "metadata": {},
   "outputs": [
    {
     "name": "stdout",
     "output_type": "stream",
     "text": [
      "Games : 58.14\n",
      "Entertainment : 7.89\n",
      "Photo & Video : 4.97\n",
      "Education : 3.66\n",
      "Social Networking : 3.29\n",
      "Shopping : 2.61\n",
      "Utilities : 2.52\n",
      "Sports : 2.14\n",
      "Music : 2.05\n",
      "Health & Fitness : 2.02\n",
      "Productivity : 1.74\n",
      "Lifestyle : 1.58\n",
      "News : 1.34\n",
      "Travel : 1.24\n",
      "Finance : 1.12\n",
      "Weather : 0.87\n",
      "Food & Drink : 0.81\n",
      "Reference : 0.56\n",
      "Business : 0.53\n",
      "Book : 0.43\n",
      "Navigation : 0.19\n",
      "Medical : 0.19\n",
      "Catalogs : 0.12\n"
     ]
    }
   ],
   "source": [
    "order_table(apple_free,11)"
   ]
  },
  {
   "cell_type": "markdown",
   "metadata": {},
   "source": [
    "Below we show the technique used to order a List, Dicc or Tuple like the one we used in the 'order_table' function above."
   ]
  },
  {
   "cell_type": "code",
   "execution_count": 22,
   "metadata": {},
   "outputs": [
    {
     "name": "stdout",
     "output_type": "stream",
     "text": [
      "['Victoria', 'Lorena', 'EddyJr.', 'Eddy']\n",
      "['Victoria', 'Lorena', 'EddyJr.', 'Eddy']\n",
      "[('Eddy', 42), ('EddyJr.', 6), ('Lorena', 39), ('Victoria', 8)]\n",
      "[(6, 'EddyJr.'), (8, 'Victoria'), (39, 'Lorena'), (42, 'Eddy')]\n"
     ]
    }
   ],
   "source": [
    "lista1 = ['Eddy', 'Lorena', 'Victoria', 'EddyJr.']\n",
    "lista2 = {'Eddy':42, 'Lorena':39, 'Victoria':8, 'EddyJr.':6}\n",
    "lista3 = [('Eddy',42), ('Lorena',39), ('Victoria',8), ('EddyJr.', 6)]\n",
    "lista4 = [(42, 'Eddy'), (39, 'Lorena'), (8, 'Victoria'), (6, 'EddyJr.')]\n",
    "\n",
    "print(sorted(lista1, reverse = True))\n",
    "print(sorted(lista2, reverse = True))\n",
    "print(sorted(lista3, reverse = False))\n",
    "print(sorted(lista4, reverse = False))"
   ]
  },
  {
   "cell_type": "markdown",
   "metadata": {},
   "source": [
    "Below we will use the function 'freq_table' to know how many rating "
   ]
  },
  {
   "cell_type": "code",
   "execution_count": 23,
   "metadata": {},
   "outputs": [
    {
     "name": "stdout",
     "output_type": "stream",
     "text": [
      "ART_AND_DESIGN ( 1407867 / 57 ) = 24699.42\n",
      "AUTO_AND_VEHICLES ( 1159503 / 82 ) = 14140.28\n",
      "BEAUTY ( 396240 / 53 ) = 7476.23\n",
      "BOOKS_AND_REFERENCE ( 16719063 / 190 ) = 87995.07\n",
      "BUSINESS ( 9865569 / 407 ) = 24239.73\n",
      "COMICS ( 2342209 / 55 ) = 42585.62\n",
      "COMMUNICATION ( 285739629 / 287 ) = 995608.46\n",
      "DATING ( 3622290 / 165 ) = 21953.27\n",
      "EDUCATION ( 5798189 / 103 ) = 56293.1\n",
      "ENTERTAINMENT ( 25648941 / 85 ) = 301752.25\n",
      "EVENTS ( 161018 / 63 ) = 2555.84\n",
      "FINANCE ( 12639775 / 328 ) = 38535.9\n",
      "FOOD_AND_DRINK ( 6322667 / 110 ) = 57478.79\n",
      "HEALTH_AND_FITNESS ( 21319927 / 273 ) = 78094.97\n",
      "HOUSE_AND_HOME ( 1929789 / 73 ) = 26435.47\n",
      "LIBRARIES_AND_DEMO ( 906842 / 83 ) = 10925.81\n",
      "LIFESTYLE ( 11736951 / 346 ) = 33921.82\n",
      "GAME ( 589197554 / 862 ) = 683523.84\n",
      "FAMILY ( 189627665 / 1676 ) = 113143.0\n",
      "MEDICAL ( 1167538 / 313 ) = 3730.15\n",
      "SOCIAL ( 227936113 / 236 ) = 965830.99\n",
      "SHOPPING ( 44553582 / 199 ) = 223887.35\n",
      "PHOTOGRAPHY ( 105465239 / 261 ) = 404081.38\n",
      "SPORTS ( 35198523 / 301 ) = 116938.61\n",
      "TRAVEL_AND_LOCAL ( 26803276 / 207 ) = 129484.43\n",
      "TOOLS ( 229299673 / 750 ) = 305732.9\n",
      "PERSONALIZATION ( 53249961 / 294 ) = 181122.32\n",
      "PRODUCTIVITY ( 55418917 / 345 ) = 160634.54\n",
      "PARENTING ( 949965 / 58 ) = 16378.71\n",
      "WEATHER ( 12158805 / 71 ) = 171250.77\n",
      "VIDEO_PLAYERS ( 67630663 / 159 ) = 425350.08\n",
      "NEWS_AND_MAGAZINES ( 23085832 / 248 ) = 93088.03\n",
      "MAPS_AND_NAVIGATION ( 17714646 / 124 ) = 142860.05\n"
     ]
    }
   ],
   "source": [
    "genresT = freq_table(google_free,1)\n",
    "\n",
    "for regi in genresT:\n",
    "    tota_rati = 0\n",
    "    leng_rati = 0\n",
    "    for row in google_free:\n",
    "        genr_goog = row[1]\n",
    "        if genr_goog == regi:\n",
    "            regi_rati = float(row[3])\n",
    "            tota_rati += regi_rati\n",
    "            leng_rati += 1\n",
    "            \n",
    "    aver_rati = round((tota_rati / leng_rati),2)\n",
    "    total = int(tota_rati)\n",
    "    print (regi, '(', total,'/',leng_rati, ')', '=', aver_rati)"
   ]
  },
  {
   "cell_type": "markdown",
   "metadata": {},
   "source": [
    "We will repeat the previous step with the Apple Store data set"
   ]
  },
  {
   "cell_type": "code",
   "execution_count": 24,
   "metadata": {},
   "outputs": [
    {
     "name": "stdout",
     "output_type": "stream",
     "text": [
      "Social Networking ( 7584125 / 106 ) = 71548.35\n",
      "Photo & Video ( 4550647 / 160 ) = 28441.54\n",
      "Games ( 42705795 / 1872 ) = 22812.92\n",
      "Music ( 3783551 / 66 ) = 57326.53\n",
      "Reference ( 1348958 / 18 ) = 74942.11\n",
      "Health & Fitness ( 1514371 / 65 ) = 23298.02\n",
      "Weather ( 1463837 / 28 ) = 52279.89\n",
      "Utilities ( 1513441 / 81 ) = 18684.46\n",
      "Travel ( 1129752 / 40 ) = 28243.8\n",
      "Shopping ( 2261254 / 84 ) = 26919.69\n",
      "News ( 913665 / 43 ) = 21248.02\n",
      "Navigation ( 516542 / 6 ) = 86090.33\n",
      "Lifestyle ( 840774 / 51 ) = 16485.76\n",
      "Entertainment ( 3563577 / 254 ) = 14029.83\n",
      "Food & Drink ( 866682 / 26 ) = 33333.92\n",
      "Sports ( 1587614 / 69 ) = 23008.9\n",
      "Book ( 556619 / 14 ) = 39758.5\n",
      "Finance ( 1132846 / 36 ) = 31467.94\n",
      "Education ( 826470 / 118 ) = 7003.98\n",
      "Productivity ( 1177591 / 56 ) = 21028.41\n",
      "Business ( 127349 / 17 ) = 7491.12\n",
      "Catalogs ( 16016 / 4 ) = 4004.0\n",
      "Medical ( 3672 / 6 ) = 612.0\n"
     ]
    }
   ],
   "source": [
    "genresT = freq_table(apple_free,-5)\n",
    "\n",
    "for regi in genresT:\n",
    "    tota_rati = 0\n",
    "    leng_rati = 0\n",
    "    for row in apple_free:\n",
    "        genr_appl = row[-5]\n",
    "        if genr_appl == regi:\n",
    "            regi_rati = float(row[5])\n",
    "            tota_rati += regi_rati\n",
    "            leng_rati += 1\n",
    "    \n",
    "    aver_rati = round((tota_rati / leng_rati),2)\n",
    "    total = int(tota_rati)\n",
    "    print (regi, '(', total,'/',leng_rati, ')', '=', aver_rati)"
   ]
  },
  {
   "cell_type": "markdown",
   "metadata": {},
   "source": [
    "Now, we will repeat the previous technique to find the frequency but taking into consideration the number of downloads from our apps' main cathegory, we will start wit our Google data set. For this we will have to clean the data to erase special characters."
   ]
  },
  {
   "cell_type": "code",
   "execution_count": 42,
   "metadata": {},
   "outputs": [
    {
     "name": "stdout",
     "output_type": "stream",
     "text": [
      "ART_AND_DESIGN : Total Downloads= 113221100 - Number of Apps= 57 Average Donwloads= 1986335.09\n",
      "AUTO_AND_VEHICLES : Total Downloads= 53080061 - Number of Apps= 82 Average Donwloads= 647317.82\n",
      "BEAUTY : Total Downloads= 27197050 - Number of Apps= 53 Average Donwloads= 513151.89\n",
      "BOOKS_AND_REFERENCE : Total Downloads= 1665884260 - Number of Apps= 190 Average Donwloads= 8767811.89\n",
      "BUSINESS : Total Downloads= 696902090 - Number of Apps= 407 Average Donwloads= 1712290.15\n",
      "COMICS : Total Downloads= 44971150 - Number of Apps= 55 Average Donwloads= 817657.27\n",
      "COMMUNICATION : Total Downloads= 11036906201 - Number of Apps= 287 Average Donwloads= 38456119.17\n",
      "DATING : Total Downloads= 140914757 - Number of Apps= 165 Average Donwloads= 854028.83\n",
      "EDUCATION : Total Downloads= 188850000 - Number of Apps= 103 Average Donwloads= 1833495.15\n",
      "ENTERTAINMENT : Total Downloads= 989460000 - Number of Apps= 85 Average Donwloads= 11640705.88\n",
      "EVENTS : Total Downloads= 15973160 - Number of Apps= 63 Average Donwloads= 253542.22\n",
      "FINANCE : Total Downloads= 455163132 - Number of Apps= 328 Average Donwloads= 1387692.48\n",
      "FOOD_AND_DRINK : Total Downloads= 211738751 - Number of Apps= 110 Average Donwloads= 1924897.74\n",
      "HEALTH_AND_FITNESS : Total Downloads= 1143548402 - Number of Apps= 273 Average Donwloads= 4188821.99\n",
      "HOUSE_AND_HOME : Total Downloads= 97202461 - Number of Apps= 73 Average Donwloads= 1331540.56\n",
      "LIBRARIES_AND_DEMO : Total Downloads= 52995810 - Number of Apps= 83 Average Donwloads= 638503.73\n",
      "LIFESTYLE : Total Downloads= 497484429 - Number of Apps= 346 Average Donwloads= 1437816.27\n",
      "GAME : Total Downloads= 13436869450 - Number of Apps= 862 Average Donwloads= 15588015.6\n",
      "FAMILY : Total Downloads= 6193895690 - Number of Apps= 1676 Average Donwloads= 3695641.82\n",
      "MEDICAL : Total Downloads= 37732344 - Number of Apps= 313 Average Donwloads= 120550.62\n",
      "SOCIAL : Total Downloads= 5487861902 - Number of Apps= 236 Average Donwloads= 23253652.13\n",
      "SHOPPING : Total Downloads= 1400338585 - Number of Apps= 199 Average Donwloads= 7036877.31\n",
      "PHOTOGRAPHY : Total Downloads= 4656268815 - Number of Apps= 261 Average Donwloads= 17840110.4\n",
      "SPORTS : Total Downloads= 1095230683 - Number of Apps= 301 Average Donwloads= 3638640.14\n",
      "TRAVEL_AND_LOCAL : Total Downloads= 2894704086 - Number of Apps= 207 Average Donwloads= 13984077.71\n",
      "TOOLS : Total Downloads= 8101043474 - Number of Apps= 750 Average Donwloads= 10801391.3\n",
      "PERSONALIZATION : Total Downloads= 1529235888 - Number of Apps= 294 Average Donwloads= 5201482.61\n",
      "PRODUCTIVITY : Total Downloads= 5791629314 - Number of Apps= 345 Average Donwloads= 16787331.34\n",
      "PARENTING : Total Downloads= 31471010 - Number of Apps= 58 Average Donwloads= 542603.62\n",
      "WEATHER : Total Downloads= 360288520 - Number of Apps= 71 Average Donwloads= 5074486.2\n",
      "VIDEO_PLAYERS : Total Downloads= 3931731720 - Number of Apps= 159 Average Donwloads= 24727872.45\n",
      "NEWS_AND_MAGAZINES : Total Downloads= 2368196260 - Number of Apps= 248 Average Donwloads= 9549178.47\n",
      "MAPS_AND_NAVIGATION : Total Downloads= 503060780 - Number of Apps= 124 Average Donwloads= 4056941.77\n"
     ]
    }
   ],
   "source": [
    "downG = freq_table(google_free,1)\n",
    "  \n",
    "for regi in downG:\n",
    "    tota_down = 0 \n",
    "    leng_down = 0\n",
    "    for row in google_free:\n",
    "        category = row[1]\n",
    "        downs = row[5]\n",
    "        if regi == category:\n",
    "            data_inst = downs\n",
    "            valu_inst = downs \n",
    "            valu_inst = valu_inst.replace(',','')\n",
    "            valu_inst = valu_inst.replace('+','')\n",
    "            tota_down = tota_down + int(valu_inst)\n",
    "            leng_down += 1\n",
    "            aver_down = round((tota_down / leng_down), 2)\n",
    "    print (regi, ': Total Downloads=', tota_down, '- Number of Apps=', leng_down, 'Average Donwloads=', aver_down)    \n",
    "    \n"
   ]
  },
  {
   "cell_type": "markdown",
   "metadata": {},
   "source": [
    "Let's repeat the steps above for the Apple data set."
   ]
  },
  {
   "cell_type": "code",
   "execution_count": 45,
   "metadata": {},
   "outputs": [
    {
     "name": "stdout",
     "output_type": "stream",
     "text": [
      "Social Networking : Total Ratings= 7584125 - Number of Apps= 106 Average Ratings= 71548.35\n",
      "Photo & Video : Total Ratings= 4550647 - Number of Apps= 160 Average Ratings= 28441.54\n",
      "Games : Total Ratings= 42705795 - Number of Apps= 1872 Average Ratings= 22812.92\n",
      "Music : Total Ratings= 3783551 - Number of Apps= 66 Average Ratings= 57326.53\n",
      "Reference : Total Ratings= 1348958 - Number of Apps= 18 Average Ratings= 74942.11\n",
      "Health & Fitness : Total Ratings= 1514371 - Number of Apps= 65 Average Ratings= 23298.02\n",
      "Weather : Total Ratings= 1463837 - Number of Apps= 28 Average Ratings= 52279.89\n",
      "Utilities : Total Ratings= 1513441 - Number of Apps= 81 Average Ratings= 18684.46\n",
      "Travel : Total Ratings= 1129752 - Number of Apps= 40 Average Ratings= 28243.8\n",
      "Shopping : Total Ratings= 2261254 - Number of Apps= 84 Average Ratings= 26919.69\n",
      "News : Total Ratings= 913665 - Number of Apps= 43 Average Ratings= 21248.02\n",
      "Navigation : Total Ratings= 516542 - Number of Apps= 6 Average Ratings= 86090.33\n",
      "Lifestyle : Total Ratings= 840774 - Number of Apps= 51 Average Ratings= 16485.76\n",
      "Entertainment : Total Ratings= 3563577 - Number of Apps= 254 Average Ratings= 14029.83\n",
      "Food & Drink : Total Ratings= 866682 - Number of Apps= 26 Average Ratings= 33333.92\n",
      "Sports : Total Ratings= 1587614 - Number of Apps= 69 Average Ratings= 23008.9\n",
      "Book : Total Ratings= 556619 - Number of Apps= 14 Average Ratings= 39758.5\n",
      "Finance : Total Ratings= 1132846 - Number of Apps= 36 Average Ratings= 31467.94\n",
      "Education : Total Ratings= 826470 - Number of Apps= 118 Average Ratings= 7003.98\n",
      "Productivity : Total Ratings= 1177591 - Number of Apps= 56 Average Ratings= 21028.41\n",
      "Business : Total Ratings= 127349 - Number of Apps= 17 Average Ratings= 7491.12\n",
      "Catalogs : Total Ratings= 16016 - Number of Apps= 4 Average Ratings= 4004.0\n",
      "Medical : Total Ratings= 3672 - Number of Apps= 6 Average Ratings= 612.0\n"
     ]
    }
   ],
   "source": [
    "downA = freq_table(apple_free,-5)\n",
    "  \n",
    "for regi in downA:\n",
    "    tota_down = 0 \n",
    "    leng_down = 0\n",
    "    for row in apple_free:\n",
    "        category = row[-5]\n",
    "        downs = row[5]\n",
    "        if regi == category:\n",
    "            data_inst = downs\n",
    "            valu_inst = downs \n",
    "            valu_inst = valu_inst.replace(',','')\n",
    "            valu_inst = valu_inst.replace('+','')\n",
    "            tota_down = tota_down + int(valu_inst)\n",
    "            leng_down += 1\n",
    "            aver_down = round((tota_down / leng_down), 2)\n",
    "    print (regi, ': Total Ratings=', tota_down, '- Number of Apps=', leng_down, 'Average Ratings=', aver_down)"
   ]
  },
  {
   "cell_type": "markdown",
   "metadata": {},
   "source": [
    "## Conclusions\n",
    "In this project, we analyzed data about the App Store and Google Play mobile apps with the goal of recommending an app profile that can be profitable for both markets.\n",
    "\n",
    "We concluded: the most popular categories for apps are: 'Games', 'Social Network', 'Family and Entertaiment' on both stores."
   ]
  }
 ],
 "metadata": {
  "kernelspec": {
   "display_name": "Python 3",
   "language": "python",
   "name": "python3"
  },
  "language_info": {
   "codemirror_mode": {
    "name": "ipython",
    "version": 3
   },
   "file_extension": ".py",
   "mimetype": "text/x-python",
   "name": "python",
   "nbconvert_exporter": "python",
   "pygments_lexer": "ipython3",
   "version": "3.8.2"
  }
 },
 "nbformat": 4,
 "nbformat_minor": 4
}
